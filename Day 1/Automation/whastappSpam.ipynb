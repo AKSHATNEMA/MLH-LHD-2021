{
 "cells": [
  {
   "cell_type": "code",
   "execution_count": null,
   "metadata": {},
   "outputs": [],
   "source": [
    "import pyautogui\n",
    "import webbrowser as wb\n",
    "import time\n",
    "wb.open(\"web.whatsapp.com\")\n",
    "time.sleep(30)\n",
    "for i in range(10):\n",
    "    pyautogui.press(\"H\")\n",
    "    pyautogui.press(\"i\")\n",
    "    pyautogui.press(\" \")\n",
    "    pyautogui.press(\"I\")\n",
    "    pyautogui.press(\" \")\n",
    "    pyautogui.press(\"a\")\n",
    "    pyautogui.press(\"m\")\n",
    "    pyautogui.press(\" \")\n",
    "    pyautogui.press(\"D\")\n",
    "    pyautogui.press(\"e\")\n",
    "    pyautogui.press(\"v\")\n",
    "    pyautogui.press(\" \")\n",
    "    pyautogui.press(\"p\")\n",
    "    pyautogui.press(\"a\")\n",
    "    pyautogui.press(\"r\")\n",
    "    pyautogui.press(\"t\")\n",
    "    pyautogui.press(\"i\")\n",
    "    pyautogui.press(\"c\")\n",
    "    pyautogui.press(\"i\")\n",
    "    pyautogui.press(\"p\")\n",
    "    pyautogui.press(\"t\")\n",
    "    pyautogui.press(\"i\")\n",
    "    pyautogui.press(\"n\")\n",
    "    pyautogui.press(\"g\")\n",
    "    pyautogui.press(\" \")\n",
    "    pyautogui.press(\"i\")\n",
    "    pyautogui.press(\"n\")\n",
    "    pyautogui.press(\" \")\n",
    "    pyautogui.press(\"L\")\n",
    "    pyautogui.press(\"H\")\n",
    "    pyautogui.press(\"D\")"
   ]
  }
 ],
 "metadata": {
  "language_info": {
   "name": "python"
  },
  "orig_nbformat": 4
 },
 "nbformat": 4,
 "nbformat_minor": 2
}
